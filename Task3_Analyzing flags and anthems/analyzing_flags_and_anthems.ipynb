version https://git-lfs.github.com/spec/v1
oid sha256:fad02aab9e20e26f554e0fd61e5ac1ecc378790f052cebc0566108a6a1294ee1
size 19105790
